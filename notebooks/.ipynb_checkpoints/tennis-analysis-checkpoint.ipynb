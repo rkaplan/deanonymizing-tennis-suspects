{
 "cells": [
  {
   "cell_type": "markdown",
   "metadata": {},
   "source": [
    "# Finding the Tennis Suspects\n",
    "\n",
    "This is the data analysis source code accompanying [Finding the Tennis Suspects](https://medium.com/p/c2d9f198c33d). This notebook is a heavily modified version of the notebook released by BuzzFeed in its [original data analyis](https://github.com/BuzzFeedNews/2016-01-tennis-betting-analysis/blob/master/notebooks/tennis-analysis.ipynb)."
   ]
  },
  {
   "cell_type": "code",
   "execution_count": 19,
   "metadata": {
    "collapsed": true
   },
   "outputs": [],
   "source": [
    "import math\n",
    "import numpy as np\n",
    "import pandas as pd\n",
    "import datetime\n",
    "from collections import Counter\n",
    "from collections import defaultdict\n",
    "import matplotlib.pyplot as plt\n",
    "\n",
    "# This is a bit of magic to make matplotlib figures appear inline in the notebook\n",
    "# rather than in a new window. Credit to cs231n.stanford.edu for this snippet.\n",
    "%matplotlib inline\n",
    "plt.rcParams['figure.figsize'] = (10.0, 8.0) # set default size of plots\n",
    "plt.rcParams['image.interpolation'] = 'nearest'\n",
    "plt.rcParams['image.cmap'] = 'gray'"
   ]
  },
  {
   "cell_type": "markdown",
   "metadata": {},
   "source": [
    "## Importing BuzzFeed's Data"
   ]
  },
  {
   "cell_type": "code",
   "execution_count": 20,
   "metadata": {
    "collapsed": false
   },
   "outputs": [
    {
     "name": "stdout",
     "output_type": "stream",
     "text": [
      "Number of rows in BuzzFeed's anonymized dataset: 129271\n"
     ]
    }
   ],
   "source": [
    "buzzfeed_data = pd.read_csv(\"../data/anonymous_betting_data.csv\")\n",
    "print \"Number of rows in BuzzFeed's anonymized dataset:\", len(buzzfeed_data)"
   ]
  },
  {
   "cell_type": "markdown",
   "metadata": {},
   "source": [
    "## Importing Our Scraped Data from OddsPortal.com\n",
    "\n",
    "We scraped 2009-2015 odds data from several different bookmakers on OddsPortal.com, the same source BuzzFeed used in their analysis. Our scraping was not exhaustive, but the amount of data we collected is sufficient for deanonymization."
   ]
  },
  {
   "cell_type": "code",
   "execution_count": 21,
   "metadata": {
    "collapsed": false
   },
   "outputs": [
    {
     "name": "stdout",
     "output_type": "stream",
     "text": [
      "Number of rows in our dataset: 26057\n"
     ]
    }
   ],
   "source": [
    "# Read in our (non-anonymous) OddsPortal data\n",
    "op_data = pd.read_json('../data/op_data.json')\n",
    "print \"Number of rows in our dataset:\", len(op_data)"
   ]
  },
  {
   "cell_type": "markdown",
   "metadata": {},
   "source": [
    "### Removing different notation\n",
    "\n",
    "We scraped odds data from OddsPortal.com from years 2009-2015, just like BuzzFeed. OddsPortal.com generally gave us back data in decimal notation (the same notation that BuzzFeed uses), but sometimes we got results in American notation instead. To be consistent with BuzzFeed and keep our data as unambiguous as possible, we filter out all of our data that uses American odds notation.\n",
    "\n",
    "N.B. We could have also just converted to decimal notation, but a) we have enough data that we didn't need to, and b) we didn't want to risk subtle floating point equality errors."
   ]
  },
  {
   "cell_type": "code",
   "execution_count": 22,
   "metadata": {
    "collapsed": false
   },
   "outputs": [
    {
     "name": "stdout",
     "output_type": "stream",
     "text": [
      "70 rows with internally inconsistent notation removed out of 26057\n"
     ]
    }
   ],
   "source": [
    "# Filter our American odds notation in the dataset\n",
    "\n",
    "# Step 1. Filter out rows with internally inconsistent notation\n",
    "def is_notationally_consistent(row):\n",
    "    \"\"\"While scraping OddsPortal, we sometimes got results in decimal odds notation and sometimes in American.\n",
    "       If a single row is internally inconsistent, we will use this function to throw it out to be safe.\"\"\"\n",
    "    winner_is_american_notation = abs(row['odds_winner_open']) >= 100.0 and abs(row['odds_winner_close']) >= 100.0\n",
    "    loser_is_american_notation = abs(row['odds_loser_open']) >= 100.0 and abs(row['odds_loser_close']) >= 100.0\n",
    "    return winner_is_american_notation == loser_is_american_notation\n",
    "\n",
    "row_internally_consistent_op_data = op_data[op_data.apply(is_notationally_consistent, axis=1)]\n",
    "print '{} rows with internally inconsistent notation removed out of {}'.format(len(op_data) - len(row_internally_consistent_op_data), len(op_data))"
   ]
  },
  {
   "cell_type": "code",
   "execution_count": 23,
   "metadata": {
    "collapsed": false
   },
   "outputs": [
    {
     "name": "stdout",
     "output_type": "stream",
     "text": [
      "7598 rows with American notation removed out of 25987\n",
      "18389 rows remaining\n"
     ]
    }
   ],
   "source": [
    "# Step 2: Filter out rows that use American notation\n",
    "\n",
    "def is_american_notation(row):\n",
    "    winner_is_american_notation = abs(row['odds_winner_open']) >= 100.0 and abs(row['odds_winner_close']) >= 100.0\n",
    "    loser_is_american_notation = abs(row['odds_loser_open']) >= 100.0 and abs(row['odds_loser_close']) >= 100.0\n",
    "    \n",
    "    # The last step should have already filtered out internally inconsistent notation\n",
    "    assert winner_is_american_notation == loser_is_american_notation\n",
    "    \n",
    "    return winner_is_american_notation and loser_is_american_notation\n",
    "\n",
    "decimal_op_data = row_internally_consistent_op_data[\n",
    "    row_internally_consistent_op_data.apply(lambda row: not is_american_notation(row), axis=1)\n",
    "]\n",
    "\n",
    "print '{} rows with American notation removed out of {}'.format(\n",
    "    len(row_internally_consistent_op_data) - len(decimal_op_data), len(row_internally_consistent_op_data))\n",
    "\n",
    "print '{} rows remaining'.format(len(decimal_op_data))"
   ]
  },
  {
   "cell_type": "markdown",
   "metadata": {},
   "source": [
    "## Utilities"
   ]
  },
  {
   "cell_type": "code",
   "execution_count": 24,
   "metadata": {
    "collapsed": true
   },
   "outputs": [],
   "source": [
    "def extract_tuple(row, include_book=False):\n",
    "    \"\"\"Get the values from the row of the fields that we will eventually join on\"\"\"\n",
    "    if include_book:\n",
    "        return (\n",
    "            row['book'],\n",
    "            row['odds_winner_open'],\n",
    "            row['odds_loser_open'],\n",
    "            row['odds_winner_close'],\n",
    "            row['odds_loser_close'],\n",
    "            row['year'],\n",
    "            row['is_cancelled_or_walkover'],\n",
    "        )\n",
    "    else:\n",
    "        return (\n",
    "            row['odds_winner_open'],\n",
    "            row['odds_loser_open'],\n",
    "            row['odds_winner_close'],\n",
    "            row['odds_loser_close'],\n",
    "            row['year'],\n",
    "            row['is_cancelled_or_walkover'],\n",
    "        )"
   ]
  },
  {
   "cell_type": "code",
   "execution_count": 25,
   "metadata": {
    "collapsed": true
   },
   "outputs": [],
   "source": [
    "def graph_counter(c):\n",
    "    \"\"\"Draw a bar graph of a Counter\"\"\"\n",
    "    labels, values = zip(*c.items())\n",
    "\n",
    "    indexes = np.arange(len(labels))\n",
    "    width = 1\n",
    "\n",
    "    plt.bar(indexes, values, width)\n",
    "    plt.xticks(indexes + width * 0.5, labels)\n",
    "    plt.show()"
   ]
  },
  {
   "cell_type": "markdown",
   "metadata": {},
   "source": [
    "## Part 1: Deanonymizing the Bookmakers\n",
    "\n",
    "BuzzFeed used odds from seven large, independent bookmakers whose odds are available on OddsPortal.com for their analysis. However, they didn't specify which seven bookmakers they used. Instead, they use the letters A through G to refer to these different bookmakers anonymously in their dataset.\n",
    "\n",
    "To cross-match BuzzFeed's data with the data we scraped from OddsPortal.com ourselves, we first need to deanonymize the bookmakers. This allows us to make sure we only consider the same bookmakers that BuzzFeed does when we search for player names later.\n",
    "\n",
    "### Step 1: Getting rid of ambiguous data\n",
    "Eventually, we will deanonymize BuzzFeed's data by finding which BuzzFeed data entries uniquely match our own (named) data entries. We know right off the bat that the following field values are shared across both datasets:\n",
    "\n",
    "***('odds_winner_open', 'odds_winner_close', 'odds_loser_open', 'odds_loser_close', 'year', 'is_cancelled_or_walkover')***\n",
    "\n",
    "So, right away we can associate data from BuzzFeed with our own data, by finding when these six values are identical.\n",
    "\n",
    "However, we won't be able to make an exact match to our own data if there are multiple data entries from BuzzFeed that share the same values for all the fields above. We want to be as confident as possible in our results, so our first step is to remove all of the ambiguous data from BuzzFeed: data where the same set of values for these six fields occurs more than once."
   ]
  },
  {
   "cell_type": "code",
   "execution_count": 26,
   "metadata": {
    "collapsed": false
   },
   "outputs": [
    {
     "name": "stdout",
     "output_type": "stream",
     "text": [
      "Removed 58907 ambiguous rows from BuzzFeed's dataset\n",
      "70364 rows remaining\n"
     ]
    }
   ],
   "source": [
    "values = []\n",
    "for i, row in buzzfeed_data.iterrows():\n",
    "    values.append(extract_tuple(row))\n",
    "\n",
    "c = Counter(values)\n",
    "bf_uniques = set([x for x in values if c[x] == 1])\n",
    "\n",
    "def is_bf_unique(row):\n",
    "    \"\"\"True if the relevant tuple is unique among all rows in the BuzzFeed dataset.\"\"\"\n",
    "    return extract_tuple(row) in bf_uniques\n",
    "\n",
    "bf_filtered = buzzfeed_data[buzzfeed_data.apply(is_bf_unique, axis=1)]\n",
    "before = len(buzzfeed_data)\n",
    "after = len(bf_filtered)\n",
    "\n",
    "print 'Removed {} ambiguous rows from BuzzFeed\\'s dataset'.format(before - after)\n",
    "print '{} rows remaining'.format(after)"
   ]
  },
  {
   "cell_type": "markdown",
   "metadata": {},
   "source": [
    "We also want to remove ambiguous data from our dataset."
   ]
  },
  {
   "cell_type": "code",
   "execution_count": 27,
   "metadata": {
    "collapsed": false
   },
   "outputs": [
    {
     "name": "stdout",
     "output_type": "stream",
     "text": [
      "Removed 7553 ambiguous rows from our dataset\n",
      "10836 rows remaining\n"
     ]
    }
   ],
   "source": [
    "values = []\n",
    "for i, row in decimal_op_data.iterrows():\n",
    "    values.append(extract_tuple(row))\n",
    "\n",
    "c = Counter(values)\n",
    "decimal_op_uniques = set([x for x in values if c[x] == 1])\n",
    "unique_decimal_op_data = decimal_op_data[\n",
    "    decimal_op_data.apply(lambda row: extract_tuple(row) in decimal_op_uniques, axis=1)\n",
    "]\n",
    "\n",
    "before = len(decimal_op_data)\n",
    "after = len(unique_decimal_op_data)\n",
    "\n",
    "print 'Removed {} ambiguous rows from our dataset'.format(before - after)\n",
    "print '{} rows remaining'.format(after)"
   ]
  },
  {
   "cell_type": "markdown",
   "metadata": {},
   "source": [
    "### Step 2: Combining matching data from the two datasets\n",
    "\n",
    "We're now ready to join the two tables together, using the shared fields mentioned before."
   ]
  },
  {
   "cell_type": "code",
   "execution_count": 28,
   "metadata": {
    "collapsed": false
   },
   "outputs": [
    {
     "name": "stdout",
     "output_type": "stream",
     "text": [
      "Found 2844 matching entries between BuzzFeed's dataset and ours\n"
     ]
    }
   ],
   "source": [
    "# Join the two!\n",
    "MERGE_HEADERS = [\n",
    "    'odds_winner_open',\n",
    "    'odds_loser_open',\n",
    "    'odds_winner_close',\n",
    "    'odds_loser_close',\n",
    "    'year',\n",
    "    'is_cancelled_or_walkover',\n",
    "]\n",
    "\n",
    "merged = pd.merge(bf_filtered, unique_decimal_op_data, how='inner', on=MERGE_HEADERS)\n",
    "print 'Found {} matching entries between BuzzFeed\\'s dataset and ours'.format(len(merged))\n"
   ]
  },
  {
   "cell_type": "markdown",
   "metadata": {},
   "source": [
    "### Step 3: Map BuzzFeed's anonymized letters to the real names of bookmakers\n",
    "\n",
    "Our goal here is to deanonymize at least some of the bookmakers. This way, we can make sure to\n",
    "exclude all data in our own OddsPortal dataset that didn't come from a bookmaker we are confident\n",
    "BuzzFeed used. Without this step there would be a (small, but non-zero) risk of false positives when we later\n",
    "deanonymize the player names: we might match a row in BuzzFeed's anonymized data to a row in\n",
    "ours from a bookmaker that BuzzFeed never even used."
   ]
  },
  {
   "cell_type": "code",
   "execution_count": 29,
   "metadata": {
    "collapsed": false
   },
   "outputs": [
    {
     "name": "stdout",
     "output_type": "stream",
     "text": [
      "Deanonymized bookmakers:\n",
      "A: bet365\n",
      "C: Pinnacle Sports\n",
      "B: bwin\n",
      "E: [Uncertain]\n",
      "D: Unibet\n",
      "G: [Uncertain]\n",
      "F: [Uncertain]\n"
     ]
    }
   ],
   "source": [
    "letter_to_book = defaultdict(lambda: Counter())\n",
    "for i, row in merged.iterrows():\n",
    "    letter, book_name = row['book_x'], row['book_y']\n",
    "    letter_to_book[letter].update([book_name])\n",
    "\n",
    "def get_deanonymized_book_if_confident(c):\n",
    "    top_2 = c.most_common(min(2, len(c)))\n",
    "    _, counts = zip(*c.items())\n",
    "    if sum(counts) < 100:\n",
    "        # Not enough data\n",
    "        return None\n",
    "    \n",
    "    if len(top_2) == 1:\n",
    "        # We are confident -- no alternative bookmakers found for this letter\n",
    "        return top_2[0][0]\n",
    "    else:\n",
    "        best_count, second_best_count = top_2[0][1], top_2[1][1]\n",
    "        if 1.0 * second_best_count / best_count < .05:\n",
    "            # We are confident -- best guest occurs at least 20x as frequently as second best guess\n",
    "            return top_2[0][0]\n",
    "    return None\n",
    "\n",
    "deanonymized_books = {}\n",
    "\n",
    "print 'Deanonymized bookmakers:'\n",
    "for key in letter_to_book:\n",
    "    bookmaker = get_deanonymized_book_if_confident(letter_to_book[key])\n",
    "    if bookmaker:\n",
    "        deanonymized_books[key] = bookmaker\n",
    "        print '{}: {}'.format(key, bookmaker)\n",
    "    else:\n",
    "        print '{}: [Uncertain]'.format(key)"
   ]
  },
  {
   "cell_type": "code",
   "execution_count": 30,
   "metadata": {
    "collapsed": false
   },
   "outputs": [
    {
     "name": "stdout",
     "output_type": "stream",
     "text": [
      "Key: A\n"
     ]
    },
    {
     "data": {
      "image/png": "[encoded data removed]",
      "text/plain": [
       "<matplotlib.figure.Figure at 0x112217b10>"
      ]
     },
     "metadata": {},
     "output_type": "display_data"
    },
    {
     "name": "stdout",
     "output_type": "stream",
     "text": [
      "Key: C\n"
     ]
    },
    {
     "data": {
      "image/png": "[encoded data removed]",
      "text/plain": [
       "<matplotlib.figure.Figure at 0x111edca50>"
      ]
     },
     "metadata": {},
     "output_type": "display_data"
    },
    {
     "name": "stdout",
     "output_type": "stream",
     "text": [
      "Key: B\n"
     ]
    },
    {
     "data": {
      "image/png": "[encoded data removed]",
      "text/plain": [
       "<matplotlib.figure.Figure at 0x11209d850>"
      ]
     },
     "metadata": {},
     "output_type": "display_data"
    },
    {
     "name": "stdout",
     "output_type": "stream",
     "text": [
      "Key: D\n"
     ]
    },
    {
     "data": {
      "image/png": "[encoded data removed]",
      "text/plain": [
       "<matplotlib.figure.Figure at 0x10f4c5e50>"
      ]
     },
     "metadata": {},
     "output_type": "display_data"
    }
   ],
   "source": [
    "# Visualize our confidence about the deanonymized bookmakers.\n",
    "\n",
    "for key in letter_to_book:\n",
    "    if key in deanonymized_books:\n",
    "        print 'Key:', key\n",
    "        graph_counter(letter_to_book[key])"
   ]
  },
  {
   "cell_type": "code",
   "execution_count": 31,
   "metadata": {
    "collapsed": false
   },
   "outputs": [
    {
     "name": "stdout",
     "output_type": "stream",
     "text": [
      "Size of our OddsPortal dataset with only deanonymized bookmakers:\n",
      "9187\n"
     ]
    }
   ],
   "source": [
    "# Now that we've deanonymized some bookmakers, we will only use odds from those bookmakers\n",
    "# when cross-referencing BuzzFeed's dataset with our OddsPortal dataset. This way we can\n",
    "# have confidence that our dataset is a subset of BuzzFeed's.\n",
    "\n",
    "known_bookmakers = deanonymized_books.values()\n",
    "\n",
    "decimal_op_data_with_known_books = decimal_op_data[\n",
    "    decimal_op_data.apply(lambda row: row['book'] in known_bookmakers, axis=1)\n",
    "]\n",
    "\n",
    "print 'Size of our OddsPortal dataset with only deanonymized bookmakers:\\n{}'.format(\n",
    "    len(decimal_op_data_with_known_books)\n",
    ")"
   ]
  },
  {
   "cell_type": "code",
   "execution_count": 32,
   "metadata": {
    "collapsed": false
   },
   "outputs": [
    {
     "name": "stdout",
     "output_type": "stream",
     "text": [
      "After filtering, our dataset has 5645 rows\n"
     ]
    }
   ],
   "source": [
    "# Once again, we filter out all non-unique rows in our OddsPortal dataset. This time\n",
    "# our criteria for what makes a row \"unique\" is more detailed, because we also look\n",
    "# at the bookmaker (now that bookmakers are deanonymized).\n",
    "\n",
    "# Get the set of unique rows\n",
    "values = []\n",
    "for i, row in decimal_op_data_with_known_books.iterrows():\n",
    "    values.append(extract_tuple(row, include_book=True))\n",
    "\n",
    "c = Counter(values)\n",
    "uniqs = set([x for x in values if c[x] == 1])\n",
    "\n",
    "final_op_data = decimal_op_data_with_known_books[\n",
    "    decimal_op_data_with_known_books.apply(lambda row: extract_tuple(row, include_book=True) in uniqs, axis=1)\n",
    "]\n",
    "\n",
    "before = len(decimal_op_data_with_known_books)\n",
    "after = len(final_op_data)\n",
    "\n",
    "print 'After filtering, our dataset has {} rows'.format(after)"
   ]
  },
  {
   "cell_type": "code",
   "execution_count": 33,
   "metadata": {
    "collapsed": false
   },
   "outputs": [],
   "source": [
    "# Our next step is to filter BuzzFeed's dataset to include only rows with known bookmakers,\n",
    "# and to replace BuzzFeed's anonymized lettering scheme with the known names.\n",
    "\n",
    "known_books_filtered_bd = bf_filtered[\n",
    "    bf_filtered.apply(lambda row: row['book'] in deanonymized_books, axis=1)\n",
    "]\n",
    "\n",
    "named_books_filtered_bd = known_books_filtered_bd.copy()\n",
    "named_books_filtered_bd['book'] = named_books_filtered_bd['book'].apply(lambda x: deanonymized_books[x])"
   ]
  },
  {
   "cell_type": "code",
   "execution_count": 34,
   "metadata": {
    "collapsed": false
   },
   "outputs": [
    {
     "data": {
      "text/plain": [
       "2757"
      ]
     },
     "execution_count": 34,
     "metadata": {},
     "output_type": "execute_result"
    }
   ],
   "source": [
    "# We now merge the BuzzFeed data and our data, merging on the bookmaker column in addition to\n",
    "# the previous ones.\n",
    "\n",
    "MERGE_HEADERS_WITH_BOOK = [\n",
    "    'book',\n",
    "    'odds_winner_open',\n",
    "    'odds_loser_open',\n",
    "    'odds_winner_close',\n",
    "    'odds_loser_close',\n",
    "    'year',\n",
    "    'is_cancelled_or_walkover',\n",
    "]\n",
    "\n",
    "merged_with_book = pd.merge(named_books_filtered_bd, final_op_data, how='inner', on=MERGE_HEADERS_WITH_BOOK)\n",
    "len(merged_with_book)"
   ]
  },
  {
   "cell_type": "code",
   "execution_count": 35,
   "metadata": {
    "collapsed": true
   },
   "outputs": [],
   "source": [
    "# The anonymized names of the 15 players BuzzFeed found in its data analysis\n",
    "# See the table in which they published these hashes at:\n",
    "# https://github.com/BuzzFeedNews/2016-01-tennis-betting-analysis/blob/master/notebooks/tennis-analysis.ipynb\n",
    "\n",
    "suspect_hashes = ['f16cc81d239ad735c51cc71442cda44c4d1a9323eb41018314d228c80c352e50',\n",
    "'33367d214715ab5f5e335cd67dbc90e62983b98e5278a4eadf39c3a18124509e',\n",
    "'6702a5de750846f45a3d977f50023c1b20156c61949f2f407b9c5b71d7d93a18',\n",
    "'9c92af8ca1b57024bd0a39b73db8be44b25bcde4115549cd80e7ef15fc3bd516',\n",
    "'0ffe23c8b80916f6b2c23a52e08018374d68d12f49b261ccb36fecd52927cc0a',\n",
    "'05f3190e5053090035664800d1f52203b40a826cf7f06534bfe153492174f504',\n",
    "'573dad2e08250afa99aa704c7ea888b421bcf06bd00aab8df3997fe64ee2df64',\n",
    "'dd83d749567ad7c7f4e89656b08d4791acefd60724cc848697903d2aa13731c7',\n",
    "'79784720fab57e7cc611e07c258cf49f484b9cee01bf47639431e8c4def3f0d4',\n",
    "'4f7f8e1b43947b2fb123afb92263b4a863daa87a4de44cabe94e7cb4df8fa1ae',\n",
    "'822130a3121c663ea88c6429830f23a794791fed013f6ec521b2e562a95fd657',\n",
    "'5e77273d54e1ce9635dc4c3d0ab9f872ba3cf4f7d1204c3c94e1e396475e066f',\n",
    "'163a93c4de594ac23ebc52c7ae413761ea412054eec4b4eb486ceaaf78818e6a',\n",
    "'afd6124804065e4ba90270b3307940c404c2f286180009ba3fb2d4723b5b76e6',\n",
    "'178a5dbb14af3102f863f493fc909bcca7b116f991fa6940d05d59eb96b0447a',]"
   ]
  },
  {
   "cell_type": "code",
   "execution_count": 36,
   "metadata": {
    "collapsed": false
   },
   "outputs": [
    {
     "name": "stdout",
     "output_type": "stream",
     "text": [
      "f16cc81d239ad735c51cc71442cda44c4d1a9323eb41018314d228c80c352e50: Andreev I., match rate = 100.0% (36/36 instances)\n",
      "33367d214715ab5f5e335cd67dbc90e62983b98e5278a4eadf39c3a18124509e: Lacko L., match rate = 100.0% (15/15 instances)\n",
      "6702a5de750846f45a3d977f50023c1b20156c61949f2f407b9c5b71d7d93a18: Dodig I., match rate = 100.0% (47/47 instances)\n",
      "9c92af8ca1b57024bd0a39b73db8be44b25bcde4115549cd80e7ef15fc3bd516: Golubev A., match rate = 100.0% (16/16 instances)\n",
      "0ffe23c8b80916f6b2c23a52e08018374d68d12f49b261ccb36fecd52927cc0a: Chela J. I., match rate = 100.0% (20/20 instances)\n",
      "05f3190e5053090035664800d1f52203b40a826cf7f06534bfe153492174f504: Hewitt L., match rate = 100.0% (33/33 instances)\n",
      "573dad2e08250afa99aa704c7ea888b421bcf06bd00aab8df3997fe64ee2df64: Hajek J., match rate = 100.0% (18/18 instances)\n",
      "dd83d749567ad7c7f4e89656b08d4791acefd60724cc848697903d2aa13731c7: Montanes A., match rate = 100.0% (35/35 instances)\n",
      "79784720fab57e7cc611e07c258cf49f484b9cee01bf47639431e8c4def3f0d4: Gimeno-Traver D., match rate = 100.0% (37/37 instances)\n",
      "4f7f8e1b43947b2fb123afb92263b4a863daa87a4de44cabe94e7cb4df8fa1ae: Tipsarevic J., match rate = 98.0769230769% (51/52 instances)\n",
      "822130a3121c663ea88c6429830f23a794791fed013f6ec521b2e562a95fd657: Bogomolov A. Jr, match rate = 100.0% (34/34 instances)\n",
      "5e77273d54e1ce9635dc4c3d0ab9f872ba3cf4f7d1204c3c94e1e396475e066f: Ebden M., match rate = 100.0% (18/18 instances)\n",
      "163a93c4de594ac23ebc52c7ae413761ea412054eec4b4eb486ceaaf78818e6a: Istomin D., match rate = 100.0% (46/46 instances)\n",
      "afd6124804065e4ba90270b3307940c404c2f286180009ba3fb2d4723b5b76e6: Gabashvili T., match rate = 100.0% (24/24 instances)\n",
      "178a5dbb14af3102f863f493fc909bcca7b116f991fa6940d05d59eb96b0447a: Russell M., match rate = 100.0% (16/16 instances)\n"
     ]
    }
   ],
   "source": [
    "# Deanonymize players\n",
    "\n",
    "hash_to_player = defaultdict(lambda: Counter())\n",
    "for i, row in merged_with_book.iterrows():\n",
    "    h_loser, h_winner = row['loser_x'], row['winner_x']\n",
    "    name_loser, name_winner = row['loser_y'], row['winner_y']\n",
    "    hash_to_player[h_loser].update([name_loser])\n",
    "    hash_to_player[h_winner].update([name_winner])\n",
    "\n",
    "found_hashes = hash_to_player.keys() \n",
    "for h in suspect_hashes:\n",
    "    if h not in found_hashes:\n",
    "        print 'NOT FOUND'\n",
    "        continue\n",
    "\n",
    "    counts = hash_to_player[h]\n",
    "    candidate, candidate_quantity = counts.most_common(1)[0]\n",
    "    total = sum(counts.values())\n",
    "    \n",
    "    print '{}: {}, match rate = {}% ({}/{} instances)'.format(\n",
    "        h, candidate, candidate_quantity * 100.0 / total, candidate_quantity, total)"
   ]
  },
  {
   "cell_type": "markdown",
   "metadata": {},
   "source": [
    "---\n",
    "\n",
    "---\n",
    "\n",
    "---"
   ]
  }
 ],
 "metadata": {
  "kernelspec": {
   "display_name": "Python 2",
   "language": "python",
   "name": "python2"
  },
  "language_info": {
   "codemirror_mode": {
    "name": "ipython",
    "version": 2
   },
   "file_extension": ".py",
   "mimetype": "text/x-python",
   "name": "python",
   "nbconvert_exporter": "python",
   "pygments_lexer": "ipython2",
   "version": "2.7.11"
  }
 },
 "nbformat": 4,
 "nbformat_minor": 0
}
